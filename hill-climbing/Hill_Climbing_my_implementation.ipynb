{
 "cells": [
  {
   "cell_type": "code",
   "execution_count": 1,
   "metadata": {},
   "outputs": [],
   "source": [
    "import gym\n",
    "import matplotlib.pyplot as plt\n",
    "import numpy as np\n",
    "import torch\n",
    "import torch.nn as nn\n",
    "import torch.nn.functional as F\n",
    "\n",
    "from collections import deque\n",
    "\n",
    "%matplotlib inline"
   ]
  },
  {
   "cell_type": "code",
   "execution_count": 2,
   "metadata": {},
   "outputs": [
    {
     "name": "stdout",
     "output_type": "stream",
     "text": [
      "Low:  [-4.8000002e+00 -3.4028235e+38 -4.1887903e-01 -3.4028235e+38]\n",
      "High:  [4.8000002e+00 3.4028235e+38 4.1887903e-01 3.4028235e+38]\n",
      "States:  Box(-3.4028234663852886e+38, 3.4028234663852886e+38, (4,), float32)\n",
      "Actions:  Discrete(2)\n",
      "State vector size:  4\n",
      "Actions vector size:  2\n"
     ]
    }
   ],
   "source": [
    "env = gym.make('CartPole-v0')\n",
    "env.seed(0)\n",
    "\n",
    "# Properties of the environment\n",
    "# vector of 4\n",
    "state_space = env.observation_space\n",
    "\n",
    "print('Low: ', state_space.low)\n",
    "print('High: ', state_space.high)\n",
    "\n",
    "# vector of 2\n",
    "action_space = env.action_space\n",
    "\n",
    "print('States: ', state_space)\n",
    "print('Actions: ', action_space)\n",
    "\n",
    "state_size = state_space.shape[0]\n",
    "action_size = action_space.n\n",
    "print('State vector size: ', state_size)\n",
    "print('Actions vector size: ', action_size)\n",
    "\n",
    "class SimplePolicy():\n",
    "    def __init__(self, env, state_size, action_size, gamma):\n",
    "        np.random.seed(0)\n",
    "        \n",
    "        self.env = env\n",
    "        self.gamma = gamma\n",
    "        \n",
    "        self.state_size = state_size\n",
    "        self.action_size = action_size\n",
    "        \n",
    "        # Note: More efficient to use 1D array (1 is added for the bias)\n",
    "        self.w = 1e-4 * np.random.rand(state_size, action_size)\n",
    "        \n",
    "        # Note: Used in order to decide on the adaptive random radius (adaptive scale hill climbing algorithm)\n",
    "        self.last_reward = -np.Inf\n",
    "        self.best_w = self.w\n",
    "        \n",
    "        self.up_fraction = 2\n",
    "        self.down_fraction = 0.5\n",
    "        \n",
    "    def forward(self, state):\n",
    "        return np.argmax(self.softmax(self.w.T.dot(state)))\n",
    "    \n",
    "    def softmax(self, x):\n",
    "        return np.exp(x) / sum(np.exp(x))\n",
    "    \n",
    "    # Note: Perturb with adaptive Gaussian noise\n",
    "    def update(self, reward, sigma):\n",
    "        if reward < self.last_reward:\n",
    "            sigma = min(2, sigma * self.up_fraction)\n",
    "            self.w = self.best_w + sigma * np.random.rand(self.state_size, self.action_size)\n",
    "        else:\n",
    "            # Note: We risk vanishing \"gradients\"\n",
    "            sigma = max(1e-3, sigma * self.down_fraction)\n",
    "            self.w += sigma * np.random.rand(self.state_size, self.action_size)\n",
    "            \n",
    "            self.best_w = self.w\n",
    "            self.last_reward = reward\n",
    "        \n",
    "        return sigma\n",
    "        \n",
    "gamma = 0.9"
   ]
  },
  {
   "cell_type": "code",
   "execution_count": 3,
   "metadata": {},
   "outputs": [
    {
     "name": "stdout",
     "output_type": "stream",
     "text": [
      "Episode 1\tAverage Score: 200.00\n",
      "Environment solved in 1 episodes!\tAverage Score: 200.00\n"
     ]
    }
   ],
   "source": [
    "def run(env, policy, nepisodes):\n",
    "    average_scores = deque(maxlen=100)\n",
    "    sigma = 0.1\n",
    "    \n",
    "    scores = []\n",
    "    \n",
    "    for episode_idx in range(1, nepisodes + 1):\n",
    "        state = env.reset()\n",
    "        \n",
    "        episode_rewards = []\n",
    "        while True:\n",
    "            action = policy.forward(state)\n",
    "            \n",
    "            next_state, reward, done, _ = env.step(action)\n",
    "            \n",
    "            episode_rewards.append(reward)\n",
    "            \n",
    "            # Note: Update at every run and not at each episode\n",
    "            # Rt+1 = SUM(from k=0 -> inf)[ (gamma**k) * Rt+k+1 ]\n",
    "            cummulative_reward = np.sum([ (gamma**idx) * episode_rewards[idx] for idx in range(0, len(episode_rewards)) ])\n",
    "\n",
    "            sigma = policy.update(cummulative_reward, sigma)\n",
    "            \n",
    "            state = next_state\n",
    "            \n",
    "            if done:\n",
    "                break\n",
    "        \n",
    "        # Note: I might update here\n",
    "        \n",
    "        scores.append(sum(episode_rewards))\n",
    "        average_scores.append(sum(episode_rewards))\n",
    "        \n",
    "        print('\\rEpisode {}\\tAverage Score: {:.2f}'.format(episode_idx, np.mean(average_scores)), end='')\n",
    "        \n",
    "        if np.mean(average_scores) >= 195.0:\n",
    "            print('\\nEnvironment solved in {:d} episodes!\\tAverage Score: {:.2f}'.format(max(1, episode_idx - 100), np.mean(average_scores)))\n",
    "            break\n",
    "            \n",
    "    return scores\n",
    "\n",
    "policy = SimplePolicy(env, state_size, action_size, gamma)\n",
    "scores = run(env, policy, 2000)"
   ]
  },
  {
   "cell_type": "code",
   "execution_count": 4,
   "metadata": {},
   "outputs": [
    {
     "data": {
      "image/png": "[encoded data removed]",
      "text/plain": [
       "<Figure size 432x288 with 1 Axes>"
      ]
     },
     "metadata": {
      "needs_background": "light"
     },
     "output_type": "display_data"
    }
   ],
   "source": [
    "fig = plt.figure()\n",
    "ax = fig.add_subplot(111)\n",
    "plt.plot(np.arange(1, len(scores) + 1), scores)\n",
    "plt.ylabel('Score')\n",
    "plt.xlabel('Episode #')\n",
    "plt.show()"
   ]
  },
  {
   "cell_type": "code",
   "execution_count": 5,
   "metadata": {},
   "outputs": [],
   "source": [
    "# load the weights from file\n",
    "state = env.reset()\n",
    "while True:\n",
    "    with torch.no_grad():\n",
    "        action = policy.forward(state)\n",
    "    env.render()\n",
    "    next_state, reward, done, _ = env.step(action)\n",
    "    state = next_state\n",
    "    if done:\n",
    "        break\n",
    "\n",
    "env.close()"
   ]
  },
  {
   "cell_type": "code",
   "execution_count": 6,
   "metadata": {},
   "outputs": [
    {
     "data": {
      "text/plain": [
       "'\\nNotes:\\n\\nI have been updating at every episode run, thus, the weights are updated way faster. But they seem unstable this way, even though sometimes, the task is solved in 1 episode.\\nIt seems like it is very dependent on the initialization of the weights.\\nIt seems also that the sigma does not influence that much the episodes in which the policy is learnt, or converged, as long as it is greater than 0.1.\\n\\nPerhaps a better approach, as in the udacity example, is to do it after each run, once per iteration. I have seen, after revision, that their learning is more stable.\\n'"
      ]
     },
     "execution_count": 6,
     "metadata": {},
     "output_type": "execute_result"
    }
   ],
   "source": [
    "'''\n",
    "Notes:\n",
    "\n",
    "I have been updating at every episode run, thus, the weights are updated way faster. But they seem unstable this way, even though sometimes, the task is solved in 1 episode.\n",
    "It seems like it is very dependent on the initialization of the weights.\n",
    "It seems also that the sigma does not influence that much the episodes in which the policy is learnt, or converged, as long as it is greater than 0.1.\n",
    "\n",
    "Perhaps a better approach, as in the udacity example, is to do it after each run, once per iteration. I have seen, after revision, that their learning is more stable.\n",
    "'''"
   ]
  }
 ],
 "metadata": {
  "kernelspec": {
   "display_name": "Python 3",
   "language": "python",
   "name": "python3"
  },
  "language_info": {
   "codemirror_mode": {
    "name": "ipython",
    "version": 3
   },
   "file_extension": ".py",
   "mimetype": "text/x-python",
   "name": "python",
   "nbconvert_exporter": "python",
   "pygments_lexer": "ipython3",
   "version": "3.7.4"
  }
 },
 "nbformat": 4,
 "nbformat_minor": 4
}
