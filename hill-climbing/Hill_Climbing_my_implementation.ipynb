{
 "cells": [
  {
   "cell_type": "code",
   "execution_count": 30,
   "metadata": {},
   "outputs": [],
   "source": [
    "import gym\n",
    "import matplotlib.pyplot as plt\n",
    "import numpy as np\n",
    "import torch\n",
    "import torch.nn as nn\n",
    "import torch.nn.functional as F\n",
    "\n",
    "from collections import deque\n",
    "\n",
    "%matplotlib inline"
   ]
  },
  {
   "cell_type": "code",
   "execution_count": 35,
   "metadata": {},
   "outputs": [
    {
     "name": "stdout",
     "output_type": "stream",
     "text": [
      "Low:  [-4.8000002e+00 -3.4028235e+38 -4.1887903e-01 -3.4028235e+38]\n",
      "High:  [4.8000002e+00 3.4028235e+38 4.1887903e-01 3.4028235e+38]\n",
      "States:  Box(-3.4028234663852886e+38, 3.4028234663852886e+38, (4,), float32)\n",
      "Actions:  Discrete(2)\n",
      "State vector size:  4\n",
      "Actions vector size:  2\n",
      "Using \"cuda:0\" device\n"
     ]
    }
   ],
   "source": [
    "env = gym.make('CartPole-v0')\n",
    "\n",
    "# Properties of the environment\n",
    "# vector of 4\n",
    "state_space = env.observation_space\n",
    "\n",
    "print('Low: ', state_space.low)\n",
    "print('High: ', state_space.high)\n",
    "\n",
    "# vector of 2\n",
    "action_space = env.action_space\n",
    "\n",
    "print('States: ', state_space)\n",
    "print('Actions: ', action_space)\n",
    "\n",
    "state_size = state_space.shape[0]\n",
    "action_size = action_space.n\n",
    "print('State vector size: ', state_size)\n",
    "print('Actions vector size: ', action_size)\n",
    "\n",
    "class Agent(nn.Module):\n",
    "    def __init__(self, env, state_size, hidden_size, action_size, gamma):\n",
    "        super(Agent, self).__init__()\n",
    "        \n",
    "        torch.manual_seed(505)\n",
    "        env.seed(0)\n",
    "        np.random.seed(0)\n",
    "        \n",
    "        self.env = env\n",
    "        self.input_size = state_size\n",
    "        self.hidden_size = hidden_size\n",
    "        self.output_size = action_size\n",
    "        \n",
    "        self.gamma = gamma\n",
    "        \n",
    "        device_type = 'cuda:0' if torch.cuda.is_available() else 'cpu'\n",
    "        self.device = torch.device(device_type)\n",
    "        print('Using \\\"%s\\\" device' % device_type)\n",
    "        \n",
    "        # Note: Stochastic policy function approximator\n",
    "        self.fc1 = nn.Linear(in_features=self.input_size, out_features=self.hidden_size, bias=True).to(self.device)\n",
    "        self.fc2 = nn.Linear(in_features=self.hidden_size, out_features=self.output_size, bias=True).to(self.device)\n",
    "        \n",
    "        # Note: More efficient to use 1D array (1 is added for the bias)\n",
    "        fc1_bias_size = (self.input_size + 1) * self.hidden_size\n",
    "        fc2_bias_size = (self.hidden_size + 1) * self.output_size\n",
    "        self.total_size = fc1_bias_size + fc2_bias_size\n",
    "        \n",
    "        # Note: Very important how this is initialized\n",
    "        self.flat_weights = 1e-4 * np.random.rand(self.total_size)\n",
    "        \n",
    "        self.set_weights()\n",
    "        \n",
    "        # Note: Used in order to decide on the adaptive random radius (adaptive scale hill climbing algorithm)\n",
    "        self.last_reward = -np.Inf\n",
    "        \n",
    "        self.up_fraction = 2\n",
    "        self.down_fraction = 1e-3\n",
    "        \n",
    "    def forward(self, state):\n",
    "        state = state.to(self.device)\n",
    "        action_probs = self.fc2( F.leaky_relu( self.fc1( state ) ) )\n",
    "        return torch.softmax(action_probs, dim=0)\n",
    "    \n",
    "    def set_weights(self):\n",
    "        fc1_stride = self.input_size * self.hidden_size\n",
    "        b1_stride = fc1_stride + self.hidden_size\n",
    "        \n",
    "        self.w1 = torch.from_numpy( self.flat_weights[ : fc1_stride ].reshape( self.input_size, self.hidden_size ) ).float().to(self.device)\n",
    "        self.b1 = torch.from_numpy( self.flat_weights[ fc1_stride : b1_stride ].reshape( 1, self.hidden_size ) ).float().to(self.device)\n",
    "        \n",
    "        fc2_stride = b1_stride + self.hidden_size * self.output_size\n",
    "        \n",
    "        self.w2 = torch.from_numpy( self.flat_weights[ b1_stride : fc2_stride ].reshape( self.hidden_size, self.output_size ) ).float().to(self.device)\n",
    "        self.b2 = torch.from_numpy( self.flat_weights[ fc2_stride : ].reshape( 1, self.output_size ) ).float().to(self.device)\n",
    "    \n",
    "    # Note: Perturb with adaptive Gaussian noise\n",
    "    def update_weights(self, reward, sigma):\n",
    "        if reward <= self.last_reward:\n",
    "            sigma += self.up_fraction\n",
    "            self.flat_weights = sigma * np.random.rand(self.total_size)\n",
    "        else:\n",
    "            sigma -= self.down_fraction\n",
    "            self.flat_weights += sigma * np.random.rand(self.total_size)\n",
    "            self.last_reward = reward\n",
    "        \n",
    "        self.set_weights()\n",
    "        \n",
    "        self.fc1.weight.data.copy_(self.w1.view_as(self.fc1.weight.data))\n",
    "        self.fc1.bias.data.copy_(self.b1.view_as(self.fc1.bias.data))\n",
    "        \n",
    "        self.fc2.weight.data.copy_(self.w2.view_as(self.fc2.weight.data))\n",
    "        self.fc2.bias.data.copy_(self.b2.view_as(self.fc2.bias.data))\n",
    "        \n",
    "        return sigma\n",
    "        \n",
    "gamma = 0.95\n",
    "hidden_size = 16\n",
    "agent = Agent(env, state_size, hidden_size, action_size, gamma)"
   ]
  },
  {
   "cell_type": "code",
   "execution_count": 36,
   "metadata": {},
   "outputs": [
    {
     "name": "stdout",
     "output_type": "stream",
     "text": [
      "Episode 86\tAverage Score: 195.86\n",
      "Environment solved in -14 episodes!\tAverage Score: 195.86\n"
     ]
    }
   ],
   "source": [
    "def run(env, agent, nepisodes):\n",
    "    average_scores = deque(maxlen=100)\n",
    "    sigma = 1e-2\n",
    "    \n",
    "    scores = []\n",
    "    \n",
    "    for episode_idx in range(1, nepisodes + 1):\n",
    "        state = env.reset()\n",
    "        \n",
    "        score = 0\n",
    "        episode_rewards = []\n",
    "        while True:\n",
    "            actions = agent.forward( torch.from_numpy(state).float() )\n",
    "            \n",
    "            next_state, reward, done, _ = env.step(actions.argmax().item())\n",
    "            \n",
    "            # Q = R + SUM(j^i-1.Ri)\n",
    "            episode_rewards.append(reward)\n",
    "            score += np.sum([ (gamma**idx) * episode_rewards[idx] for idx in range(0, len(episode_rewards)) ])\n",
    "\n",
    "            sigma = agent.update_weights(score, sigma)\n",
    "\n",
    "            state = next_state\n",
    "            \n",
    "            if done:\n",
    "                scores.append(score)\n",
    "                average_scores.append(score)\n",
    "                break\n",
    "        \n",
    "        print('\\rEpisode {}\\tAverage Score: {:.2f}'.format(episode_idx, np.mean(average_scores)), end='')\n",
    "        \n",
    "        if np.mean(average_scores) >= 195.0:\n",
    "            print('\\nEnvironment solved in {:d} episodes!\\tAverage Score: {:.2f}'.format(episode_idx - 100, np.mean(average_scores)))\n",
    "            break\n",
    "            \n",
    "    return scores\n",
    "        \n",
    "scores = run(env, agent, 2000)"
   ]
  },
  {
   "cell_type": "code",
   "execution_count": 37,
   "metadata": {},
   "outputs": [
    {
     "data": {
      "image/png": "[encoded data removed]",
      "text/plain": [
       "<Figure size 432x288 with 1 Axes>"
      ]
     },
     "metadata": {
      "needs_background": "light"
     },
     "output_type": "display_data"
    }
   ],
   "source": [
    "fig = plt.figure()\n",
    "ax = fig.add_subplot(111)\n",
    "plt.plot(np.arange(1, len(scores) + 1), scores)\n",
    "plt.ylabel('Score')\n",
    "plt.xlabel('Episode #')\n",
    "plt.show()"
   ]
  },
  {
   "cell_type": "code",
   "execution_count": 38,
   "metadata": {},
   "outputs": [],
   "source": [
    "# load the weights from file\n",
    "state = env.reset()\n",
    "while True:\n",
    "    state = torch.from_numpy(state).float()\n",
    "    with torch.no_grad():\n",
    "        action = agent.forward(state)\n",
    "    env.render()\n",
    "    next_state, reward, done, _ = env.step(action.argmax().item())\n",
    "    state = next_state\n",
    "    if done:\n",
    "        break\n",
    "\n",
    "env.close()"
   ]
  },
  {
   "cell_type": "code",
   "execution_count": null,
   "metadata": {},
   "outputs": [],
   "source": []
  }
 ],
 "metadata": {
  "kernelspec": {
   "display_name": "Python 3",
   "language": "python",
   "name": "python3"
  },
  "language_info": {
   "codemirror_mode": {
    "name": "ipython",
    "version": 3
   },
   "file_extension": ".py",
   "mimetype": "text/x-python",
   "name": "python",
   "nbconvert_exporter": "python",
   "pygments_lexer": "ipython3",
   "version": "3.7.4"
  }
 },
 "nbformat": 4,
 "nbformat_minor": 4
}
