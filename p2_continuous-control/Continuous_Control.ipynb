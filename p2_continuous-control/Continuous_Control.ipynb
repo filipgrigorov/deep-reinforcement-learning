{
 "cells": [
  {
   "cell_type": "markdown",
   "metadata": {},
   "source": [
    "# Continuous Control\n",
    "\n",
    "---\n",
    "\n",
    "In this notebook, you will learn how to use the Unity ML-Agents environment for the second project of the [Deep Reinforcement Learning Nanodegree](https://www.udacity.com/course/deep-reinforcement-learning-nanodegree--nd893) program.\n",
    "\n",
    "### 1. Start the Environment\n",
    "\n",
    "We begin by importing the necessary packages.  If the code cell below returns an error, please revisit the project instructions to double-check that you have installed [Unity ML-Agents](https://github.com/Unity-Technologies/ml-agents/blob/master/docs/Installation.md) and [NumPy](http://www.numpy.org/)."
   ]
  },
  {
   "cell_type": "code",
   "execution_count": 1,
   "metadata": {},
   "outputs": [],
   "source": [
    "import matplotlib.pyplot as plt\n",
    "import numpy as np\n",
    "import os\n",
    "import time\n",
    "import torch\n",
    "\n",
    "from agent import DDPGAgent\n",
    "from collections import deque\n",
    "from unityagents import UnityEnvironment\n",
    "\n",
    "%matplotlib inline"
   ]
  },
  {
   "cell_type": "markdown",
   "metadata": {},
   "source": [
    "Environments contain **_brains_** which are responsible for deciding the actions of their associated agents. Here we check for the first brain available, and set it as the default brain we will be controlling from Python."
   ]
  },
  {
   "cell_type": "markdown",
   "metadata": {},
   "source": [
    "### 2. Examine the State and Action Spaces\n",
    "\n",
    "In this environment, a double-jointed arm can move to target locations. A reward of `+0.1` is provided for each step that the agent's hand is in the goal location. Thus, the goal of your agent is to maintain its position at the target location for as many time steps as possible.\n",
    "\n",
    "The observation space consists of `33` variables corresponding to position, rotation, velocity, and angular velocities of the arm.  Each action is a vector with four numbers, corresponding to torque applicable to two joints.  Every entry in the action vector must be a number between `-1` and `1`.\n",
    "\n",
    "Run the code cell below to print some information about the environment."
   ]
  },
  {
   "cell_type": "markdown",
   "metadata": {},
   "source": [
    "When finished, you can close the environment."
   ]
  },
  {
   "cell_type": "markdown",
   "metadata": {},
   "source": [
    "### 3. Train DDPG!\n",
    "\n",
    "Now it's your turn to train your own agent to solve the environment!  When training the environment, set `train_mode=True`, so that the line for resetting the environment looks like the following:\n",
    "```python\n",
    "env_info = env.reset(train_mode=True)[brain_name]\n",
    "```"
   ]
  },
  {
   "cell_type": "code",
   "execution_count": 2,
   "metadata": {},
   "outputs": [],
   "source": [
    "def train_ddpg(env, agent, config):\n",
    "    '''Runs the training loop'''\n",
    "    nepisodes = config['nepisodes']\n",
    "    ntimesteps = config['nsteps']\n",
    "    target_score = config['target_score']\n",
    "\n",
    "    average_over_episodes = config['average_over_episodes']\n",
    "\n",
    "    actor_weights_path = config['actor_weights_path']\n",
    "    critic_weights_path = config['critic_weights_path']\n",
    "\n",
    "    brain_name = config['brain_name']\n",
    "    num_agents = config['number_agents']\n",
    "\n",
    "    mean_scores = []                               # list of mean scores from each episode\n",
    "    min_scores = []                                # list of lowest scores from each episode\n",
    "    max_scores = []                                # list of highest scores from each episode\n",
    "    best_score = -np.inf\n",
    "    scores_window = deque(maxlen=average_over_episodes)  # mean scores from most recent episodes\n",
    "    moving_avgs = []                               # list of moving averages\n",
    "    \n",
    "    for i_episode in range(1, nepisodes + 1):\n",
    "\n",
    "        env_info = env.reset(train_mode=True)[brain_name] # reset environment\n",
    "        states = env_info.vector_observations                   # get current state for each agent\n",
    "        scores = np.zeros(num_agents)                           # initialize score for each agent\n",
    "\n",
    "        agent.reset()\n",
    "\n",
    "        start_time = time.time()\n",
    "\n",
    "        for t in range(ntimesteps):\n",
    "            actions = agent.act(states)                         # select an action\n",
    "\n",
    "            env_info = env.step(actions)[brain_name]            # send actions to environment\n",
    "            next_states = env_info.vector_observations          # get next state\n",
    "            rewards = env_info.rewards                          # get reward\n",
    "            dones = env_info.local_done                         # see if episode has finished\n",
    "\n",
    "            # Log into replay memory\n",
    "            agent.remember(states, actions, rewards, next_states, dones)\n",
    "            agent.step(t)\n",
    "\n",
    "            states = next_states\n",
    "            scores += rewards\n",
    "\n",
    "            if np.any(dones):                                   # exit loop when episode ends\n",
    "                break\n",
    "\n",
    "        duration = time.time() - start_time\n",
    "\n",
    "        min_scores.append(np.min(scores))             # save lowest score for a single agent\n",
    "        max_scores.append(np.max(scores))             # save highest score for a single agent\n",
    "\n",
    "        mean_scores.append(np.mean(scores))           # save mean score for the episode\n",
    "\n",
    "        scores_window.append(mean_scores[-1])         # save mean score to window\n",
    "\n",
    "        moving_avgs.append(np.mean(scores_window))    # save moving average\n",
    "\n",
    "        print('\\rEpisode {} ({} sec)  -- \\tMin reward: {:.1f}\\tMax reward: {:.1f}\\tMean reward: {:.1f}\\tMoving Average: {:.1f}'.format(\n",
    "            i_episode,\n",
    "            round(duration),\n",
    "            min_scores[-1],\n",
    "            max_scores[-1],\n",
    "            mean_scores[-1],\n",
    "            moving_avgs[-1])\n",
    "        )\n",
    "        \n",
    "        if mean_scores[-1] > best_score:\n",
    "            # Note: Save every progress we make\n",
    "            torch.save(agent.learnt_actor.state_dict(), actor_weights_path)\n",
    "            torch.save(agent.learnt_critic.state_dict(), critic_weights_path)\n",
    "\n",
    "        if moving_avgs[-1] >= target_score and i_episode >= average_over_episodes:\n",
    "            print('\\nEnvironment was solved in {} episodes!\\tMoving Average ={:.1f} over last {} episodes'.format(\n",
    "                i_episode - average_over_episodes, \n",
    "                moving_avgs[-1], \n",
    "                average_over_episodes\n",
    "            ))\n",
    "\n",
    "            torch.save(agent.learnt_actor.state_dict(), actor_weights_path)\n",
    "            torch.save(agent.learnt_critic.state_dict(), critic_weights_path)  \n",
    "            break\n",
    "\n",
    "    return mean_scores, moving_avgs"
   ]
  },
  {
   "cell_type": "code",
   "execution_count": null,
   "metadata": {},
   "outputs": [
    {
     "name": "stdout",
     "output_type": "stream",
     "text": [
      "Launching environment!\n"
     ]
    },
    {
     "name": "stderr",
     "output_type": "stream",
     "text": [
      "INFO:unityagents:\n",
      "'Academy' started successfully!\n",
      "Unity Academy name: Academy\n",
      "        Number of Brains: 1\n",
      "        Number of External Brains : 1\n",
      "        Lesson number : 0\n",
      "        Reset Parameters :\n",
      "\t\tgoal_speed -> 1.0\n",
      "\t\tgoal_size -> 5.0\n",
      "Unity brain name: ReacherBrain\n",
      "        Number of Visual Observations (per agent): 0\n",
      "        Vector Observation space type: continuous\n",
      "        Vector Observation space size (per agent): 33\n",
      "        Number of stacked Vector Observation: 1\n",
      "        Vector Action space type: continuous\n",
      "        Vector Action space size (per agent): 4\n",
      "        Vector Action descriptions: , , , \n"
     ]
    },
    {
     "name": "stdout",
     "output_type": "stream",
     "text": [
      "Using cuda\n",
      "Summary:\n",
      "Actor network:\n",
      "Actor(\n",
      "  (fc): Sequential(\n",
      "    (0): Linear(in_features=33, out_features=400, bias=True)\n",
      "    (1): Linear(in_features=400, out_features=300, bias=True)\n",
      "    (2): Linear(in_features=300, out_features=4, bias=True)\n",
      "  )\n",
      "  (bn): BatchNorm1d(400, eps=1e-05, momentum=0.1, affine=True, track_running_stats=True)\n",
      ")\n",
      "Critic network:\n",
      "Critic(\n",
      "  (fc): Sequential(\n",
      "    (0): Linear(in_features=33, out_features=400, bias=True)\n",
      "    (1): Linear(in_features=404, out_features=300, bias=True)\n",
      "    (2): Linear(in_features=300, out_features=1, bias=True)\n",
      "  )\n",
      "  (bn): BatchNorm1d(400, eps=1e-05, momentum=0.1, affine=True, track_running_stats=True)\n",
      ")\n"
     ]
    }
   ],
   "source": [
    "print('Launching environment!')\n",
    "\n",
    "env = UnityEnvironment(file_name='Reacher_Windows_x86_64_many/Reacher.exe')\n",
    "brain_name = env.brain_names[0]\n",
    "brain = env.brains[brain_name]\n",
    "\n",
    "env_info = env.reset(train_mode=True)[brain_name]\n",
    "    \n",
    "action_size = brain.vector_action_space_size\n",
    "\n",
    "states = env_info.vector_observations\n",
    "state_size = states.shape[1]\n",
    "\n",
    "# Note: Could be extended to a cli (argparse)\n",
    "agent_config = {\n",
    "    'seed': 1,\n",
    "    'batch_size': 128,\n",
    "    'memory_size': int(1e5),\n",
    "    'gamma': 0.99,\n",
    "    'tau': 1e-3,\n",
    "    'actor_lr': 1e-3,\n",
    "    'critic_lr': 1e-3,\n",
    "    'update_every': 20,\n",
    "    'update_iterations': 10,\n",
    "    'noise_decay': 0.999,\n",
    "    'number_agents': len(env_info.agents)\n",
    "}\n",
    "\n",
    "agent = DDPGAgent(state_size, action_size, agent_config)\n",
    "\n",
    "root_path = 'weights'\n",
    "training_config = {\n",
    "    'nepisodes': 500,\n",
    "    'nsteps': 1000,\n",
    "    'average_over_episodes': 100,\n",
    "    'target_score': 30,\n",
    "    'brain_name': brain_name,\n",
    "    'number_agents': len(env_info.agents),\n",
    "    'actor_weights_path': os.path.join(root_path, 'actor_weights_checkpoint.pth'),\n",
    "    'critic_weights_path': os.path.join(root_path, 'critic_weights_checkpoint.pth')\n",
    "}\n",
    "\n",
    "trajectory_scores, moving_average_scores = train_ddpg(env, agent, training_config)"
   ]
  },
  {
   "cell_type": "code",
   "execution_count": null,
   "metadata": {},
   "outputs": [],
   "source": [
    "fig = plt.figure()\n",
    "len_scores = len(trajectory_scores)\n",
    "\n",
    "fig = plt.figure()\n",
    "ax = fig.add_subplot(111)\n",
    "\n",
    "plt.plot(np.arange(len_scores), trajectory_scores, label='scores')\n",
    "plt.plot(np.arange(len_scores), moving_average_scores, c='r', label='moving average')\n",
    "\n",
    "plt.ylabel('Score')\n",
    "plt.xlabel('Episode #')\n",
    "\n",
    "plt.legend(loc='upper left')\n",
    "\n",
    "plt.show()"
   ]
  },
  {
   "cell_type": "code",
   "execution_count": null,
   "metadata": {},
   "outputs": [],
   "source": [
    "print('Closing the environment!')\n",
    "env.close()"
   ]
  }
 ],
 "metadata": {
  "kernelspec": {
   "display_name": "Python 3",
   "language": "python",
   "name": "python3"
  },
  "language_info": {
   "codemirror_mode": {
    "name": "ipython",
    "version": 3
   },
   "file_extension": ".py",
   "mimetype": "text/x-python",
   "name": "python",
   "nbconvert_exporter": "python",
   "pygments_lexer": "ipython3",
   "version": "3.6.12"
  }
 },
 "nbformat": 4,
 "nbformat_minor": 4
}
