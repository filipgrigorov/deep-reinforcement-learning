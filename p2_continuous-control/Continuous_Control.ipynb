{
 "cells": [
  {
   "cell_type": "markdown",
   "metadata": {},
   "source": [
    "# Continuous Control\n",
    "\n",
    "---\n",
    "\n",
    "In this notebook, you will learn how to use the Unity ML-Agents environment for the second project of the [Deep Reinforcement Learning Nanodegree](https://www.udacity.com/course/deep-reinforcement-learning-nanodegree--nd893) program.\n",
    "\n",
    "### 1. Start the Environment\n",
    "\n",
    "We begin by importing the necessary packages.  If the code cell below returns an error, please revisit the project instructions to double-check that you have installed [Unity ML-Agents](https://github.com/Unity-Technologies/ml-agents/blob/master/docs/Installation.md) and [NumPy](http://www.numpy.org/)."
   ]
  },
  {
   "cell_type": "code",
   "execution_count": 1,
   "metadata": {},
   "outputs": [],
   "source": [
    "import matplotlib.pyplot as plt\n",
    "import numpy as np\n",
    "import os\n",
    "import time\n",
    "import torch\n",
    "\n",
    "from agent import DDPGAgent\n",
    "from collections import deque\n",
    "from unityagents import UnityEnvironment\n",
    "\n",
    "%matplotlib inline"
   ]
  },
  {
   "cell_type": "markdown",
   "metadata": {},
   "source": [
    "Environments contain **_brains_** which are responsible for deciding the actions of their associated agents. Here we check for the first brain available, and set it as the default brain we will be controlling from Python."
   ]
  },
  {
   "cell_type": "markdown",
   "metadata": {},
   "source": [
    "### 2. Examine the State and Action Spaces\n",
    "\n",
    "In this environment, a double-jointed arm can move to target locations. A reward of `+0.1` is provided for each step that the agent's hand is in the goal location. Thus, the goal of your agent is to maintain its position at the target location for as many time steps as possible.\n",
    "\n",
    "The observation space consists of `33` variables corresponding to position, rotation, velocity, and angular velocities of the arm.  Each action is a vector with four numbers, corresponding to torque applicable to two joints.  Every entry in the action vector must be a number between `-1` and `1`.\n",
    "\n",
    "Run the code cell below to print some information about the environment."
   ]
  },
  {
   "cell_type": "markdown",
   "metadata": {},
   "source": [
    "When finished, you can close the environment."
   ]
  },
  {
   "cell_type": "markdown",
   "metadata": {},
   "source": [
    "### 3. Train DDPG!\n",
    "\n",
    "Now it's your turn to train your own agent to solve the environment!  When training the environment, set `train_mode=True`, so that the line for resetting the environment looks like the following:\n",
    "```python\n",
    "env_info = env.reset(train_mode=True)[brain_name]\n",
    "```"
   ]
  },
  {
   "cell_type": "code",
   "execution_count": 2,
   "metadata": {},
   "outputs": [],
   "source": [
    "def train_ddpg(env, agent, config):\n",
    "    '''Runs the training loop'''\n",
    "    nepisodes = config['nepisodes']\n",
    "    ntimesteps = config['nsteps']\n",
    "    target_score = config['target_score']\n",
    "\n",
    "    average_over_episodes = config['average_over_episodes']\n",
    "\n",
    "    actor_weights_path = config['actor_weights_path']\n",
    "    critic_weights_path = config['critic_weights_path']\n",
    "\n",
    "    brain_name = config['brain_name']\n",
    "    num_agents = config['number_agents']\n",
    "\n",
    "    mean_scores = []                               # list of mean scores from each episode\n",
    "    min_scores = []                                # list of lowest scores from each episode\n",
    "    max_scores = []                                # list of highest scores from each episode\n",
    "    best_score = -np.inf\n",
    "    scores_window = deque(maxlen=average_over_episodes)  # mean scores from most recent episodes\n",
    "    moving_avgs = []                               # list of moving averages\n",
    "    \n",
    "    for i_episode in range(1, nepisodes + 1):\n",
    "\n",
    "        env_info = env.reset(train_mode=True)[brain_name] # reset environment\n",
    "        states = env_info.vector_observations                   # get current state for each agent\n",
    "        scores = np.zeros(num_agents)                           # initialize score for each agent\n",
    "\n",
    "        agent.reset()\n",
    "\n",
    "        start_time = time.time()\n",
    "\n",
    "        for t in range(ntimesteps):\n",
    "            actions = agent.act(states)                         # select an action\n",
    "\n",
    "            env_info = env.step(actions)[brain_name]            # send actions to environment\n",
    "            next_states = env_info.vector_observations          # get next state\n",
    "            rewards = env_info.rewards                          # get reward\n",
    "            dones = env_info.local_done                         # see if episode has finished\n",
    "\n",
    "            # Log into replay memory\n",
    "            agent.remember(states, actions, rewards, next_states, dones)\n",
    "            agent.step(t)\n",
    "\n",
    "            states = next_states\n",
    "            scores += rewards\n",
    "\n",
    "            if np.any(dones):                                   # exit loop when episode ends\n",
    "                break\n",
    "\n",
    "        duration = time.time() - start_time\n",
    "\n",
    "        min_scores.append(np.min(scores))             # save lowest score for a single agent\n",
    "        max_scores.append(np.max(scores))             # save highest score for a single agent\n",
    "\n",
    "        mean_scores.append(np.mean(scores))           # save mean score for the episode\n",
    "\n",
    "        scores_window.append(mean_scores[-1])         # save mean score to window\n",
    "\n",
    "        moving_avgs.append(np.mean(scores_window))    # save moving average\n",
    "\n",
    "        print('\\rEpisode {} ({} sec)  -- \\tMin reward: {:.1f}\\tMax reward: {:.1f}\\tMean reward: {:.1f}\\tMoving Average: {:.1f}'.format(\n",
    "            i_episode,\n",
    "            round(duration),\n",
    "            min_scores[-1],\n",
    "            max_scores[-1],\n",
    "            mean_scores[-1],\n",
    "            moving_avgs[-1])\n",
    "        )\n",
    "        \n",
    "        if mean_scores[-1] > best_score:\n",
    "            # Note: Save every progress we make\n",
    "            torch.save(agent.learnt_actor.state_dict(), actor_weights_path)\n",
    "            torch.save(agent.learnt_critic.state_dict(), critic_weights_path)\n",
    "\n",
    "        if moving_avgs[-1] >= target_score and i_episode >= average_over_episodes:\n",
    "            print('\\nEnvironment was solved in {} episodes!\\tMoving Average ={:.1f} over last {} episodes'.format(\n",
    "                i_episode - average_over_episodes, \n",
    "                moving_avgs[-1], \n",
    "                average_over_episodes\n",
    "            ))\n",
    "\n",
    "            torch.save(agent.learnt_actor.state_dict(), actor_weights_path)\n",
    "            torch.save(agent.learnt_critic.state_dict(), critic_weights_path)  \n",
    "            break\n",
    "\n",
    "    return mean_scores, moving_avgs"
   ]
  },
  {
   "cell_type": "code",
   "execution_count": 3,
   "metadata": {},
   "outputs": [
    {
     "name": "stdout",
     "output_type": "stream",
     "text": [
      "Launching environment!\n"
     ]
    },
    {
     "name": "stderr",
     "output_type": "stream",
     "text": [
      "INFO:unityagents:\n",
      "'Academy' started successfully!\n",
      "Unity Academy name: Academy\n",
      "        Number of Brains: 1\n",
      "        Number of External Brains : 1\n",
      "        Lesson number : 0\n",
      "        Reset Parameters :\n",
      "\t\tgoal_speed -> 1.0\n",
      "\t\tgoal_size -> 5.0\n",
      "Unity brain name: ReacherBrain\n",
      "        Number of Visual Observations (per agent): 0\n",
      "        Vector Observation space type: continuous\n",
      "        Vector Observation space size (per agent): 33\n",
      "        Number of stacked Vector Observation: 1\n",
      "        Vector Action space type: continuous\n",
      "        Vector Action space size (per agent): 4\n",
      "        Vector Action descriptions: , , , \n"
     ]
    },
    {
     "name": "stdout",
     "output_type": "stream",
     "text": [
      "Using cuda\n",
      "Summary:\n",
      "Actor network:\n",
      "Actor(\n",
      "  (fc): Sequential(\n",
      "    (0): Linear(in_features=33, out_features=400, bias=True)\n",
      "    (1): Linear(in_features=400, out_features=300, bias=True)\n",
      "    (2): Linear(in_features=300, out_features=4, bias=True)\n",
      "  )\n",
      "  (bn): BatchNorm1d(400, eps=1e-05, momentum=0.1, affine=True, track_running_stats=True)\n",
      ")\n",
      "Critic network:\n",
      "Critic(\n",
      "  (fc): Sequential(\n",
      "    (0): Linear(in_features=33, out_features=400, bias=True)\n",
      "    (1): Linear(in_features=404, out_features=300, bias=True)\n",
      "    (2): Linear(in_features=300, out_features=1, bias=True)\n",
      "  )\n",
      "  (bn): BatchNorm1d(400, eps=1e-05, momentum=0.1, affine=True, track_running_stats=True)\n",
      ")\n",
      "Episode 1 (400 sec)  -- \tMin reward: 0.0\tMax reward: 0.9\tMean reward: 0.1\tMoving Average: 0.1\n",
      "Episode 2 (430 sec)  -- \tMin reward: 0.0\tMax reward: 0.1\tMean reward: 0.0\tMoving Average: 0.1\n",
      "Episode 3 (407 sec)  -- \tMin reward: 0.2\tMax reward: 1.6\tMean reward: 0.7\tMoving Average: 0.3\n",
      "Episode 4 (425 sec)  -- \tMin reward: 0.4\tMax reward: 3.0\tMean reward: 1.1\tMoving Average: 0.5\n",
      "Episode 5 (438 sec)  -- \tMin reward: 0.1\tMax reward: 2.3\tMean reward: 0.9\tMoving Average: 0.6\n",
      "Episode 6 (337 sec)  -- \tMin reward: 0.4\tMax reward: 2.8\tMean reward: 1.2\tMoving Average: 0.7\n",
      "Episode 7 (326 sec)  -- \tMin reward: 0.6\tMax reward: 3.9\tMean reward: 1.8\tMoving Average: 0.8\n",
      "Episode 8 (323 sec)  -- \tMin reward: 0.8\tMax reward: 5.7\tMean reward: 3.0\tMoving Average: 1.1\n",
      "Episode 9 (325 sec)  -- \tMin reward: 2.1\tMax reward: 5.8\tMean reward: 3.9\tMoving Average: 1.4\n",
      "Episode 10 (321 sec)  -- \tMin reward: 3.5\tMax reward: 8.5\tMean reward: 6.1\tMoving Average: 1.9\n",
      "Episode 11 (320 sec)  -- \tMin reward: 5.5\tMax reward: 12.5\tMean reward: 8.6\tMoving Average: 2.5\n",
      "Episode 12 (323 sec)  -- \tMin reward: 2.9\tMax reward: 25.9\tMean reward: 16.7\tMoving Average: 3.7\n",
      "Episode 13 (323 sec)  -- \tMin reward: 13.6\tMax reward: 30.9\tMean reward: 21.8\tMoving Average: 5.1\n",
      "Episode 14 (323 sec)  -- \tMin reward: 14.2\tMax reward: 39.6\tMean reward: 31.6\tMoving Average: 7.0\n",
      "Episode 15 (326 sec)  -- \tMin reward: 34.5\tMax reward: 39.3\tMean reward: 37.9\tMoving Average: 9.0\n",
      "Episode 16 (322 sec)  -- \tMin reward: 37.5\tMax reward: 39.6\tMean reward: 39.0\tMoving Average: 10.9\n",
      "Episode 17 (322 sec)  -- \tMin reward: 36.8\tMax reward: 39.6\tMean reward: 38.9\tMoving Average: 12.6\n",
      "Episode 18 (322 sec)  -- \tMin reward: 34.5\tMax reward: 39.6\tMean reward: 37.6\tMoving Average: 13.9\n",
      "Episode 19 (323 sec)  -- \tMin reward: 32.0\tMax reward: 39.6\tMean reward: 36.4\tMoving Average: 15.1\n",
      "Episode 20 (323 sec)  -- \tMin reward: 30.7\tMax reward: 39.2\tMean reward: 36.2\tMoving Average: 16.2\n",
      "Episode 21 (323 sec)  -- \tMin reward: 33.9\tMax reward: 39.1\tMean reward: 37.0\tMoving Average: 17.2\n",
      "Episode 22 (322 sec)  -- \tMin reward: 31.4\tMax reward: 39.6\tMean reward: 37.1\tMoving Average: 18.1\n",
      "Episode 23 (323 sec)  -- \tMin reward: 37.6\tMax reward: 39.5\tMean reward: 38.9\tMoving Average: 19.0\n",
      "Episode 24 (321 sec)  -- \tMin reward: 37.4\tMax reward: 39.5\tMean reward: 38.6\tMoving Average: 19.8\n",
      "Episode 25 (322 sec)  -- \tMin reward: 34.6\tMax reward: 39.5\tMean reward: 38.5\tMoving Average: 20.5\n",
      "Episode 26 (326 sec)  -- \tMin reward: 33.7\tMax reward: 39.5\tMean reward: 37.4\tMoving Average: 21.2\n",
      "Episode 27 (323 sec)  -- \tMin reward: 32.8\tMax reward: 39.7\tMean reward: 37.5\tMoving Average: 21.8\n",
      "Episode 28 (322 sec)  -- \tMin reward: 33.5\tMax reward: 39.2\tMean reward: 36.9\tMoving Average: 22.3\n",
      "Episode 29 (323 sec)  -- \tMin reward: 34.9\tMax reward: 39.1\tMean reward: 37.6\tMoving Average: 22.9\n",
      "Episode 30 (321 sec)  -- \tMin reward: 32.2\tMax reward: 39.3\tMean reward: 37.0\tMoving Average: 23.3\n",
      "Episode 31 (321 sec)  -- \tMin reward: 31.1\tMax reward: 39.0\tMean reward: 36.3\tMoving Average: 23.7\n",
      "Episode 32 (323 sec)  -- \tMin reward: 33.2\tMax reward: 39.1\tMean reward: 36.8\tMoving Average: 24.2\n",
      "Episode 33 (322 sec)  -- \tMin reward: 32.9\tMax reward: 39.4\tMean reward: 36.5\tMoving Average: 24.5\n",
      "Episode 34 (323 sec)  -- \tMin reward: 34.0\tMax reward: 39.2\tMean reward: 36.6\tMoving Average: 24.9\n",
      "Episode 35 (316 sec)  -- \tMin reward: 32.8\tMax reward: 39.1\tMean reward: 36.8\tMoving Average: 25.2\n",
      "Episode 36 (314 sec)  -- \tMin reward: 32.8\tMax reward: 38.7\tMean reward: 36.9\tMoving Average: 25.5\n",
      "Episode 37 (318 sec)  -- \tMin reward: 33.8\tMax reward: 39.5\tMean reward: 37.8\tMoving Average: 25.9\n",
      "Episode 38 (315 sec)  -- \tMin reward: 34.6\tMax reward: 39.5\tMean reward: 38.2\tMoving Average: 26.2\n",
      "Episode 39 (314 sec)  -- \tMin reward: 30.4\tMax reward: 39.4\tMean reward: 37.1\tMoving Average: 26.5\n",
      "Episode 40 (315 sec)  -- \tMin reward: 35.3\tMax reward: 39.6\tMean reward: 37.8\tMoving Average: 26.8\n",
      "Episode 41 (314 sec)  -- \tMin reward: 34.9\tMax reward: 39.4\tMean reward: 36.9\tMoving Average: 27.0\n",
      "Episode 42 (315 sec)  -- \tMin reward: 34.9\tMax reward: 39.4\tMean reward: 37.3\tMoving Average: 27.3\n",
      "Episode 43 (318 sec)  -- \tMin reward: 34.0\tMax reward: 39.4\tMean reward: 36.5\tMoving Average: 27.5\n",
      "Episode 44 (314 sec)  -- \tMin reward: 31.1\tMax reward: 39.5\tMean reward: 36.0\tMoving Average: 27.7\n",
      "Episode 45 (314 sec)  -- \tMin reward: 34.3\tMax reward: 39.6\tMean reward: 37.4\tMoving Average: 27.9\n",
      "Episode 46 (318 sec)  -- \tMin reward: 31.8\tMax reward: 38.7\tMean reward: 35.9\tMoving Average: 28.1\n",
      "Episode 47 (314 sec)  -- \tMin reward: 35.9\tMax reward: 39.5\tMean reward: 38.0\tMoving Average: 28.3\n",
      "Episode 48 (317 sec)  -- \tMin reward: 34.3\tMax reward: 39.4\tMean reward: 37.7\tMoving Average: 28.5\n",
      "Episode 49 (315 sec)  -- \tMin reward: 33.8\tMax reward: 39.2\tMean reward: 37.8\tMoving Average: 28.7\n",
      "Episode 50 (315 sec)  -- \tMin reward: 34.3\tMax reward: 39.2\tMean reward: 37.7\tMoving Average: 28.8\n",
      "Episode 51 (314 sec)  -- \tMin reward: 33.2\tMax reward: 39.6\tMean reward: 36.8\tMoving Average: 29.0\n",
      "Episode 52 (314 sec)  -- \tMin reward: 32.9\tMax reward: 38.9\tMean reward: 36.8\tMoving Average: 29.1\n",
      "Episode 53 (314 sec)  -- \tMin reward: 34.4\tMax reward: 39.4\tMean reward: 36.7\tMoving Average: 29.3\n",
      "Episode 54 (314 sec)  -- \tMin reward: 28.5\tMax reward: 39.6\tMean reward: 36.0\tMoving Average: 29.4\n",
      "Episode 55 (314 sec)  -- \tMin reward: 32.8\tMax reward: 39.5\tMean reward: 36.6\tMoving Average: 29.5\n",
      "Episode 56 (313 sec)  -- \tMin reward: 35.1\tMax reward: 38.9\tMean reward: 37.4\tMoving Average: 29.7\n",
      "Episode 57 (314 sec)  -- \tMin reward: 31.9\tMax reward: 39.6\tMean reward: 37.2\tMoving Average: 29.8\n",
      "Episode 58 (315 sec)  -- \tMin reward: 34.0\tMax reward: 38.6\tMean reward: 37.2\tMoving Average: 29.9\n",
      "Episode 59 (314 sec)  -- \tMin reward: 35.0\tMax reward: 39.1\tMean reward: 37.4\tMoving Average: 30.1\n",
      "Episode 60 (332 sec)  -- \tMin reward: 33.0\tMax reward: 39.6\tMean reward: 37.8\tMoving Average: 30.2\n",
      "Episode 61 (336 sec)  -- \tMin reward: 31.7\tMax reward: 39.1\tMean reward: 37.1\tMoving Average: 30.3\n",
      "Episode 62 (313 sec)  -- \tMin reward: 32.2\tMax reward: 39.5\tMean reward: 37.2\tMoving Average: 30.4\n",
      "Episode 63 (314 sec)  -- \tMin reward: 31.8\tMax reward: 39.2\tMean reward: 37.0\tMoving Average: 30.5\n",
      "Episode 64 (313 sec)  -- \tMin reward: 30.3\tMax reward: 39.0\tMean reward: 35.7\tMoving Average: 30.6\n",
      "Episode 65 (314 sec)  -- \tMin reward: 30.1\tMax reward: 39.2\tMean reward: 36.8\tMoving Average: 30.7\n",
      "Episode 66 (314 sec)  -- \tMin reward: 31.9\tMax reward: 39.6\tMean reward: 36.4\tMoving Average: 30.8\n",
      "Episode 67 (314 sec)  -- \tMin reward: 29.0\tMax reward: 39.5\tMean reward: 37.1\tMoving Average: 30.9\n",
      "Episode 68 (313 sec)  -- \tMin reward: 29.1\tMax reward: 39.0\tMean reward: 35.5\tMoving Average: 30.9\n",
      "Episode 69 (316 sec)  -- \tMin reward: 33.8\tMax reward: 39.5\tMean reward: 37.3\tMoving Average: 31.0\n",
      "Episode 70 (313 sec)  -- \tMin reward: 33.5\tMax reward: 39.5\tMean reward: 37.0\tMoving Average: 31.1\n",
      "Episode 71 (316 sec)  -- \tMin reward: 29.4\tMax reward: 38.9\tMean reward: 36.2\tMoving Average: 31.2\n",
      "Episode 72 (314 sec)  -- \tMin reward: 32.8\tMax reward: 39.1\tMean reward: 37.2\tMoving Average: 31.3\n",
      "Episode 73 (314 sec)  -- \tMin reward: 31.4\tMax reward: 39.3\tMean reward: 36.9\tMoving Average: 31.4\n",
      "Episode 74 (315 sec)  -- \tMin reward: 33.0\tMax reward: 39.1\tMean reward: 37.1\tMoving Average: 31.4\n",
      "Episode 75 (314 sec)  -- \tMin reward: 28.2\tMax reward: 38.4\tMean reward: 35.6\tMoving Average: 31.5\n",
      "Episode 76 (314 sec)  -- \tMin reward: 30.7\tMax reward: 39.5\tMean reward: 36.7\tMoving Average: 31.6\n",
      "Episode 77 (313 sec)  -- \tMin reward: 32.9\tMax reward: 39.4\tMean reward: 37.1\tMoving Average: 31.6\n",
      "Episode 78 (314 sec)  -- \tMin reward: 32.5\tMax reward: 38.2\tMean reward: 35.9\tMoving Average: 31.7\n",
      "Episode 79 (313 sec)  -- \tMin reward: 25.8\tMax reward: 37.7\tMean reward: 35.0\tMoving Average: 31.7\n",
      "Episode 80 (316 sec)  -- \tMin reward: 31.3\tMax reward: 39.0\tMean reward: 35.6\tMoving Average: 31.8\n",
      "Episode 81 (313 sec)  -- \tMin reward: 33.0\tMax reward: 39.5\tMean reward: 37.0\tMoving Average: 31.8\n",
      "Episode 82 (314 sec)  -- \tMin reward: 34.2\tMax reward: 39.0\tMean reward: 37.1\tMoving Average: 31.9\n",
      "Episode 83 (317 sec)  -- \tMin reward: 32.2\tMax reward: 39.2\tMean reward: 37.3\tMoving Average: 32.0\n",
      "Episode 84 (313 sec)  -- \tMin reward: 32.6\tMax reward: 39.4\tMean reward: 36.7\tMoving Average: 32.0\n",
      "Episode 85 (313 sec)  -- \tMin reward: 32.7\tMax reward: 39.6\tMean reward: 36.9\tMoving Average: 32.1\n",
      "Episode 86 (316 sec)  -- \tMin reward: 29.6\tMax reward: 38.7\tMean reward: 35.2\tMoving Average: 32.1\n",
      "Episode 87 (314 sec)  -- \tMin reward: 31.3\tMax reward: 38.3\tMean reward: 35.6\tMoving Average: 32.2\n",
      "Episode 88 (315 sec)  -- \tMin reward: 32.5\tMax reward: 39.5\tMean reward: 37.3\tMoving Average: 32.2\n",
      "Episode 89 (322 sec)  -- \tMin reward: 33.2\tMax reward: 39.3\tMean reward: 36.6\tMoving Average: 32.3\n",
      "Episode 90 (312 sec)  -- \tMin reward: 32.6\tMax reward: 39.5\tMean reward: 37.1\tMoving Average: 32.3\n",
      "Episode 91 (309 sec)  -- \tMin reward: 35.9\tMax reward: 39.0\tMean reward: 37.5\tMoving Average: 32.4\n",
      "Episode 92 (331 sec)  -- \tMin reward: 14.2\tMax reward: 38.3\tMean reward: 33.9\tMoving Average: 32.4\n",
      "Episode 93 (329 sec)  -- \tMin reward: 31.4\tMax reward: 39.4\tMean reward: 36.6\tMoving Average: 32.4\n",
      "Episode 94 (317 sec)  -- \tMin reward: 35.3\tMax reward: 39.5\tMean reward: 37.9\tMoving Average: 32.5\n",
      "Episode 95 (312 sec)  -- \tMin reward: 34.7\tMax reward: 39.5\tMean reward: 37.7\tMoving Average: 32.6\n",
      "Episode 96 (320 sec)  -- \tMin reward: 30.3\tMax reward: 39.3\tMean reward: 35.4\tMoving Average: 32.6\n",
      "Episode 97 (316 sec)  -- \tMin reward: 22.2\tMax reward: 39.4\tMean reward: 35.3\tMoving Average: 32.6\n",
      "Episode 98 (312 sec)  -- \tMin reward: 30.4\tMax reward: 39.1\tMean reward: 35.2\tMoving Average: 32.6\n",
      "Episode 99 (312 sec)  -- \tMin reward: 21.5\tMax reward: 39.3\tMean reward: 35.6\tMoving Average: 32.7\n",
      "Episode 100 (318 sec)  -- \tMin reward: 31.2\tMax reward: 39.5\tMean reward: 36.7\tMoving Average: 32.7\n",
      "\n",
      "Environment was solved in 0 episodes!\tMoving Average =32.7 over last 100 episodes\n"
     ]
    }
   ],
   "source": [
    "print('Launching environment!')\n",
    "\n",
    "env = UnityEnvironment(file_name='Reacher_Windows_x86_64_many/Reacher.exe')\n",
    "brain_name = env.brain_names[0]\n",
    "brain = env.brains[brain_name]\n",
    "\n",
    "env_info = env.reset(train_mode=True)[brain_name]\n",
    "    \n",
    "action_size = brain.vector_action_space_size\n",
    "\n",
    "states = env_info.vector_observations\n",
    "state_size = states.shape[1]\n",
    "\n",
    "# Note: Could be extended to a cli (argparse)\n",
    "agent_config = {\n",
    "    'seed': 1,\n",
    "    'batch_size': 128,\n",
    "    'memory_size': int(1e5),\n",
    "    'gamma': 0.99,\n",
    "    'tau': 1e-3,\n",
    "    'actor_lr': 1e-3,\n",
    "    'critic_lr': 1e-3,\n",
    "    'update_every': 20,\n",
    "    'update_iterations': 10,\n",
    "    'noise_decay': 0.999,\n",
    "    'number_agents': len(env_info.agents)\n",
    "}\n",
    "\n",
    "agent = DDPGAgent(state_size, action_size, agent_config)\n",
    "\n",
    "root_path = 'weights'\n",
    "training_config = {\n",
    "    'nepisodes': 500,\n",
    "    'nsteps': 1000,\n",
    "    'average_over_episodes': 100,\n",
    "    'target_score': 30,\n",
    "    'brain_name': brain_name,\n",
    "    'number_agents': len(env_info.agents),\n",
    "    'actor_weights_path': os.path.join(root_path, 'actor_weights_checkpoint.pth'),\n",
    "    'critic_weights_path': os.path.join(root_path, 'critic_weights_checkpoint.pth')\n",
    "}\n",
    "\n",
    "trajectory_scores, moving_average_scores = train_ddpg(env, agent, training_config)"
   ]
  },
  {
   "cell_type": "code",
   "execution_count": 4,
   "metadata": {},
   "outputs": [
    {
     "data": {
      "text/plain": [
       "<Figure size 432x288 with 0 Axes>"
      ]
     },
     "metadata": {},
     "output_type": "display_data"
    },
    {
     "data": {
      "image/png": "[encoded data removed]",
      "text/plain": [
       "<Figure size 432x288 with 1 Axes>"
      ]
     },
     "metadata": {
      "needs_background": "light"
     },
     "output_type": "display_data"
    }
   ],
   "source": [
    "fig = plt.figure()\n",
    "len_scores = len(trajectory_scores)\n",
    "\n",
    "fig = plt.figure()\n",
    "ax = fig.add_subplot(111)\n",
    "\n",
    "plt.plot(np.arange(len_scores), trajectory_scores, label='scores')\n",
    "plt.plot(np.arange(len_scores), moving_average_scores, c='r', label='moving average')\n",
    "\n",
    "plt.ylabel('Score')\n",
    "plt.xlabel('Episode #')\n",
    "\n",
    "plt.legend(loc='upper left')\n",
    "\n",
    "plt.show()"
   ]
  },
  {
   "cell_type": "code",
   "execution_count": 6,
   "metadata": {},
   "outputs": [
    {
     "data": {
      "text/plain": [
       "<Figure size 432x288 with 0 Axes>"
      ]
     },
     "metadata": {},
     "output_type": "display_data"
    }
   ],
   "source": [
    "plt.savefig('scores_plot.png')"
   ]
  },
  {
   "cell_type": "code",
   "execution_count": null,
   "metadata": {},
   "outputs": [],
   "source": [
    "print('Closing the environment!')\n",
    "env.close()"
   ]
  }
 ],
 "metadata": {
  "kernelspec": {
   "display_name": "Python 3",
   "language": "python",
   "name": "python3"
  },
  "language_info": {
   "codemirror_mode": {
    "name": "ipython",
    "version": 3
   },
   "file_extension": ".py",
   "mimetype": "text/x-python",
   "name": "python",
   "nbconvert_exporter": "python",
   "pygments_lexer": "ipython3",
   "version": "3.6.12"
  }
 },
 "nbformat": 4,
 "nbformat_minor": 4
}
