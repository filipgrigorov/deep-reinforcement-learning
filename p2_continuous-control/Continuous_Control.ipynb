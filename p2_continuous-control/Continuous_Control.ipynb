{
 "cells": [
  {
   "cell_type": "markdown",
   "metadata": {},
   "source": [
    "# Continuous Control\n",
    "\n",
    "---\n",
    "\n",
    "In this notebook, you will learn how to use the Unity ML-Agents environment for the second project of the [Deep Reinforcement Learning Nanodegree](https://www.udacity.com/course/deep-reinforcement-learning-nanodegree--nd893) program.\n",
    "\n",
    "### 1. Start the Environment\n",
    "\n",
    "We begin by importing the necessary packages.  If the code cell below returns an error, please revisit the project instructions to double-check that you have installed [Unity ML-Agents](https://github.com/Unity-Technologies/ml-agents/blob/master/docs/Installation.md) and [NumPy](http://www.numpy.org/)."
   ]
  },
  {
   "cell_type": "code",
   "execution_count": 1,
   "metadata": {},
   "outputs": [],
   "source": [
    "from unityagents import UnityEnvironment\n",
    "import matplotlib.pyplot as plt\n",
    "import numpy as np\n",
    "\n",
    "%matplotlib inline"
   ]
  },
  {
   "cell_type": "markdown",
   "metadata": {},
   "source": [
    "Next, we will start the environment!  **_Before running the code cell below_**, change the `file_name` parameter to match the location of the Unity environment that you downloaded.\n",
    "\n",
    "- **Mac**: `\"path/to/Reacher.app\"`\n",
    "- **Windows** (x86): `\"path/to/Reacher_Windows_x86/Reacher.exe\"`\n",
    "- **Windows** (x86_64): `\"path/to/Reacher_Windows_x86_64/Reacher.exe\"`\n",
    "- **Linux** (x86): `\"path/to/Reacher_Linux/Reacher.x86\"`\n",
    "- **Linux** (x86_64): `\"path/to/Reacher_Linux/Reacher.x86_64\"`\n",
    "- **Linux** (x86, headless): `\"path/to/Reacher_Linux_NoVis/Reacher.x86\"`\n",
    "- **Linux** (x86_64, headless): `\"path/to/Reacher_Linux_NoVis/Reacher.x86_64\"`\n",
    "\n",
    "For instance, if you are using a Mac, then you downloaded `Reacher.app`.  If this file is in the same folder as the notebook, then the line below should appear as follows:\n",
    "```\n",
    "env = UnityEnvironment(file_name=\"Reacher.app\")\n",
    "```"
   ]
  },
  {
   "cell_type": "code",
   "execution_count": 2,
   "metadata": {},
   "outputs": [
    {
     "name": "stderr",
     "output_type": "stream",
     "text": [
      "INFO:unityagents:\n",
      "'Academy' started successfully!\n",
      "Unity Academy name: Academy\n",
      "        Number of Brains: 1\n",
      "        Number of External Brains : 1\n",
      "        Lesson number : 0\n",
      "        Reset Parameters :\n",
      "\t\tgoal_speed -> 1.0\n",
      "\t\tgoal_size -> 5.0\n",
      "Unity brain name: ReacherBrain\n",
      "        Number of Visual Observations (per agent): 0\n",
      "        Vector Observation space type: continuous\n",
      "        Vector Observation space size (per agent): 33\n",
      "        Number of stacked Vector Observation: 1\n",
      "        Vector Action space type: continuous\n",
      "        Vector Action space size (per agent): 4\n",
      "        Vector Action descriptions: , , , \n"
     ]
    }
   ],
   "source": [
    "env = UnityEnvironment(file_name='Reacher_Windows_x86_64_many/Reacher.exe')"
   ]
  },
  {
   "cell_type": "markdown",
   "metadata": {},
   "source": [
    "Environments contain **_brains_** which are responsible for deciding the actions of their associated agents. Here we check for the first brain available, and set it as the default brain we will be controlling from Python."
   ]
  },
  {
   "cell_type": "code",
   "execution_count": 3,
   "metadata": {},
   "outputs": [],
   "source": [
    "# get the default brain\n",
    "brain_name = env.brain_names[0]\n",
    "brain = env.brains[brain_name]"
   ]
  },
  {
   "cell_type": "markdown",
   "metadata": {},
   "source": [
    "### 2. Examine the State and Action Spaces\n",
    "\n",
    "In this environment, a double-jointed arm can move to target locations. A reward of `+0.1` is provided for each step that the agent's hand is in the goal location. Thus, the goal of your agent is to maintain its position at the target location for as many time steps as possible.\n",
    "\n",
    "The observation space consists of `33` variables corresponding to position, rotation, velocity, and angular velocities of the arm.  Each action is a vector with four numbers, corresponding to torque applicable to two joints.  Every entry in the action vector must be a number between `-1` and `1`.\n",
    "\n",
    "Run the code cell below to print some information about the environment."
   ]
  },
  {
   "cell_type": "code",
   "execution_count": 4,
   "metadata": {},
   "outputs": [
    {
     "name": "stdout",
     "output_type": "stream",
     "text": [
      "Number of agents: 20\n",
      "Size of each action: 4\n",
      "There are 20 agents. Each observes a state with length: 33\n",
      "The state for the first agent looks like: [ 0.00000000e+00 -4.00000000e+00  0.00000000e+00  1.00000000e+00\n",
      " -0.00000000e+00 -0.00000000e+00 -4.37113883e-08  0.00000000e+00\n",
      "  0.00000000e+00  0.00000000e+00  0.00000000e+00  0.00000000e+00\n",
      "  0.00000000e+00  0.00000000e+00 -1.00000000e+01  0.00000000e+00\n",
      "  1.00000000e+00 -0.00000000e+00 -0.00000000e+00 -4.37113883e-08\n",
      "  0.00000000e+00  0.00000000e+00  0.00000000e+00  0.00000000e+00\n",
      "  0.00000000e+00  0.00000000e+00  5.75471878e+00 -1.00000000e+00\n",
      "  5.55726624e+00  0.00000000e+00  1.00000000e+00  0.00000000e+00\n",
      " -1.68164849e-01]\n"
     ]
    }
   ],
   "source": [
    "# reset the environment\n",
    "env_info = env.reset(train_mode=True)[brain_name]\n",
    "\n",
    "# number of agents\n",
    "num_agents = len(env_info.agents)\n",
    "print('Number of agents:', num_agents)\n",
    "\n",
    "# size of each action\n",
    "action_size = brain.vector_action_space_size\n",
    "print('Size of each action:', action_size)\n",
    "\n",
    "# examine the state space \n",
    "states = env_info.vector_observations\n",
    "state_size = states.shape[1]\n",
    "print('There are {} agents. Each observes a state with length: {}'.format(states.shape[0], state_size))\n",
    "print('The state for the first agent looks like:', states[0])"
   ]
  },
  {
   "cell_type": "markdown",
   "metadata": {},
   "source": [
    "### 3. Take Random Actions in the Environment\n",
    "\n",
    "In the next code cell, you will learn how to use the Python API to control the agent and receive feedback from the environment.\n",
    "\n",
    "Once this cell is executed, you will watch the agent's performance, if it selects an action at random with each time step.  A window should pop up that allows you to observe the agent, as it moves through the environment.  \n",
    "\n",
    "Of course, as part of the project, you'll have to change the code so that the agent is able to use its experience to gradually choose better actions when interacting with the environment!"
   ]
  },
  {
   "cell_type": "code",
   "execution_count": 5,
   "metadata": {},
   "outputs": [
    {
     "data": {
      "text/plain": [
       "\"env_info = env.reset(train_mode=False)[brain_name]     # reset the environment    \\nstates = env_info.vector_observations                  # get the current state (for each agent)\\nscores = np.zeros(num_agents)                          # initialize the score (for each agent)\\nwhile True:\\n    actions = np.random.randn(num_agents, action_size) # select an action (for each agent)\\n    actions = np.clip(actions, -1, 1)                  # all actions between -1 and 1\\n    env_info = env.step(actions)[brain_name]           # send all actions to tne environment\\n    next_states = env_info.vector_observations         # get next state (for each agent)\\n    rewards = env_info.rewards                         # get reward (for each agent)\\n    dones = env_info.local_done                        # see if episode finished\\n    scores += env_info.rewards                         # update the score (for each agent)\\n    states = next_states                               # roll over states to next time step\\n    if np.any(dones):                                  # exit loop if episode finished\\n        break\\nprint('Total score (averaged over agents) this episode: {}'.format(np.mean(scores)))\""
      ]
     },
     "execution_count": 5,
     "metadata": {},
     "output_type": "execute_result"
    }
   ],
   "source": [
    "'''env_info = env.reset(train_mode=False)[brain_name]     # reset the environment    \n",
    "states = env_info.vector_observations                  # get the current state (for each agent)\n",
    "scores = np.zeros(num_agents)                          # initialize the score (for each agent)\n",
    "while True:\n",
    "    actions = np.random.randn(num_agents, action_size) # select an action (for each agent)\n",
    "    actions = np.clip(actions, -1, 1)                  # all actions between -1 and 1\n",
    "    env_info = env.step(actions)[brain_name]           # send all actions to tne environment\n",
    "    next_states = env_info.vector_observations         # get next state (for each agent)\n",
    "    rewards = env_info.rewards                         # get reward (for each agent)\n",
    "    dones = env_info.local_done                        # see if episode finished\n",
    "    scores += env_info.rewards                         # update the score (for each agent)\n",
    "    states = next_states                               # roll over states to next time step\n",
    "    if np.any(dones):                                  # exit loop if episode finished\n",
    "        break\n",
    "print('Total score (averaged over agents) this episode: {}'.format(np.mean(scores)))'''"
   ]
  },
  {
   "cell_type": "markdown",
   "metadata": {},
   "source": [
    "When finished, you can close the environment."
   ]
  },
  {
   "cell_type": "code",
   "execution_count": 6,
   "metadata": {},
   "outputs": [],
   "source": [
    "#env.close()"
   ]
  },
  {
   "cell_type": "markdown",
   "metadata": {},
   "source": [
    "### 4. It's Your Turn!\n",
    "\n",
    "Now it's your turn to train your own agent to solve the environment!  When training the environment, set `train_mode=True`, so that the line for resetting the environment looks like the following:\n",
    "```python\n",
    "env_info = env.reset(train_mode=True)[brain_name]\n",
    "```"
   ]
  },
  {
   "cell_type": "code",
   "execution_count": 7,
   "metadata": {},
   "outputs": [],
   "source": [
    "import time\n",
    "import torch\n",
    "\n",
    "from agent import Agent\n",
    "from collections import deque\n",
    "\n",
    "def run_ddpg(agent, n_episodes=500, max_t=1000, target_score=30.0, average_over_episodes=100, log_every=1, train_mode=True,\n",
    "         actor_path='actor_checkpoint.pth', critic_path='critic_checkpoint.pth'):\n",
    "\n",
    "    mean_scores = []                               # list of mean scores from each episode\n",
    "    min_scores = []                                # list of lowest scores from each episode\n",
    "    max_scores = []                                # list of highest scores from each episode\n",
    "    best_score = -np.inf\n",
    "    scores_window = deque(maxlen=average_over_episodes)  # mean scores from most recent episodes\n",
    "    moving_avgs = []                               # list of moving averages\n",
    "    \n",
    "    for i_episode in range(1, n_episodes + 1):\n",
    "\n",
    "        env_info = env.reset(train_mode=train_mode)[brain_name] # reset environment\n",
    "        states = env_info.vector_observations                   # get current state for each agent\n",
    "        scores = np.zeros(num_agents)                           # initialize score for each agent\n",
    "\n",
    "        agent.reset()\n",
    "\n",
    "        start_time = time.time()\n",
    "\n",
    "        for t in range(max_t):\n",
    "            actions = agent.act(states)         # select an action\n",
    "\n",
    "            env_info = env.step(actions)[brain_name]            # send actions to environment\n",
    "            next_states = env_info.vector_observations          # get next state\n",
    "            rewards = env_info.rewards                          # get reward\n",
    "            dones = env_info.local_done                         # see if episode has finished\n",
    "\n",
    "            # Log into replay memory\n",
    "            agent.remember(states, actions, rewards, next_states, dones)\n",
    "            agent.step(t)\n",
    "\n",
    "            states = next_states\n",
    "            scores += rewards\n",
    "\n",
    "            if np.any(dones):                                   # exit loop when episode ends\n",
    "                break\n",
    "\n",
    "        duration = time.time() - start_time\n",
    "\n",
    "        min_scores.append(np.min(scores))             # save lowest score for a single agent\n",
    "        max_scores.append(np.max(scores))             # save highest score for a single agent\n",
    "\n",
    "        mean_scores.append(np.mean(scores))           # save mean score for the episode\n",
    "\n",
    "        scores_window.append(mean_scores[-1])         # save mean score to window\n",
    "\n",
    "        moving_avgs.append(np.mean(scores_window))    # save moving average\n",
    "\n",
    "        if i_episode % log_every == 0:\n",
    "            print('\\rEpisode {} ({} sec)  -- \\tMin reward: {:.1f}\\tMax reward: {:.1f}\\tMean reward: {:.1f}\\tMoving Average: {:.1f}'.format(\n",
    "                i_episode,\n",
    "                round(duration),\n",
    "                min_scores[-1],\n",
    "                max_scores[-1],\n",
    "                mean_scores[-1],\n",
    "                moving_avgs[-1])\n",
    "            )\n",
    "        \n",
    "        if train_mode and mean_scores[-1] > best_score:\n",
    "            # Note: Save every progress we make\n",
    "            torch.save(agent.learnt_actor.state_dict(), actor_path)\n",
    "            torch.save(agent.learnt_critic.state_dict(), critic_path)\n",
    "\n",
    "        if moving_avgs[-1] >= target_score and i_episode >= average_over_episodes:\n",
    "            print('\\nEnvironment was solved in {} episodes!\\tMoving Average ={:.1f} over last {} episodes'.format(\n",
    "                i_episode - average_over_episodes, \n",
    "                moving_avgs[-1], \n",
    "                average_over_episodes\n",
    "            ))\n",
    "\n",
    "            torch.save(agent.learnt_actor.state_dict(), actor_path)\n",
    "            torch.save(agent.learnt_critic.state_dict(), critic_path)  \n",
    "            break\n",
    "\n",
    "    return mean_scores, moving_avgs"
   ]
  },
  {
   "cell_type": "code",
   "execution_count": 8,
   "metadata": {},
   "outputs": [
    {
     "name": "stdout",
     "output_type": "stream",
     "text": [
      "Using cuda\n",
      "Actor(\n",
      "  (fc): Sequential(\n",
      "    (0): Linear(in_features=33, out_features=400, bias=True)\n",
      "    (1): Linear(in_features=400, out_features=300, bias=True)\n",
      "    (2): Linear(in_features=300, out_features=4, bias=True)\n",
      "  )\n",
      "  (bn): BatchNorm1d(400, eps=1e-05, momentum=0.1, affine=True, track_running_stats=True)\n",
      ")\n",
      "Critic(\n",
      "  (fc): Sequential(\n",
      "    (0): Linear(in_features=33, out_features=400, bias=True)\n",
      "    (1): Linear(in_features=404, out_features=300, bias=True)\n",
      "    (2): Linear(in_features=300, out_features=1, bias=True)\n",
      "  )\n",
      "  (bn): BatchNorm1d(400, eps=1e-05, momentum=0.1, affine=True, track_running_stats=True)\n",
      ")\n",
      "Episode 1 (294 sec)  -- \tMin reward: 0.0\tMax reward: 1.1\tMean reward: 0.3\tMoving Average: 0.3\n",
      "Episode 2 (296 sec)  -- \tMin reward: 0.0\tMax reward: 2.8\tMean reward: 0.9\tMoving Average: 0.6\n",
      "Episode 3 (294 sec)  -- \tMin reward: 1.0\tMax reward: 5.2\tMean reward: 2.8\tMoving Average: 1.3\n",
      "Episode 4 (297 sec)  -- \tMin reward: 1.7\tMax reward: 9.9\tMean reward: 4.1\tMoving Average: 2.0\n",
      "Episode 5 (284 sec)  -- \tMin reward: 2.3\tMax reward: 12.2\tMean reward: 5.9\tMoving Average: 2.8\n",
      "Episode 6 (285 sec)  -- \tMin reward: 5.3\tMax reward: 11.1\tMean reward: 7.9\tMoving Average: 3.7\n",
      "Episode 7 (286 sec)  -- \tMin reward: 5.2\tMax reward: 17.7\tMean reward: 12.4\tMoving Average: 4.9\n",
      "Episode 8 (284 sec)  -- \tMin reward: 6.8\tMax reward: 30.7\tMean reward: 13.9\tMoving Average: 6.0\n",
      "Episode 9 (287 sec)  -- \tMin reward: 10.5\tMax reward: 26.4\tMean reward: 19.3\tMoving Average: 7.5\n",
      "Episode 10 (286 sec)  -- \tMin reward: 16.3\tMax reward: 39.2\tMean reward: 28.5\tMoving Average: 9.6\n",
      "Episode 11 (284 sec)  -- \tMin reward: 24.1\tMax reward: 39.5\tMean reward: 35.1\tMoving Average: 11.9\n",
      "Episode 12 (284 sec)  -- \tMin reward: 31.1\tMax reward: 39.6\tMean reward: 36.2\tMoving Average: 13.9\n",
      "Episode 13 (285 sec)  -- \tMin reward: 33.9\tMax reward: 39.6\tMean reward: 38.2\tMoving Average: 15.8\n",
      "Episode 14 (284 sec)  -- \tMin reward: 36.9\tMax reward: 39.6\tMean reward: 38.6\tMoving Average: 17.4\n",
      "Episode 15 (285 sec)  -- \tMin reward: 35.8\tMax reward: 39.5\tMean reward: 38.6\tMoving Average: 18.8\n",
      "Episode 16 (286 sec)  -- \tMin reward: 27.5\tMax reward: 39.5\tMean reward: 37.1\tMoving Average: 20.0\n",
      "Episode 17 (285 sec)  -- \tMin reward: 35.5\tMax reward: 39.5\tMean reward: 37.8\tMoving Average: 21.0\n",
      "Episode 18 (284 sec)  -- \tMin reward: 34.8\tMax reward: 39.1\tMean reward: 37.5\tMoving Average: 21.9\n",
      "Episode 19 (286 sec)  -- \tMin reward: 29.3\tMax reward: 39.1\tMean reward: 37.0\tMoving Average: 22.7\n",
      "Episode 20 (285 sec)  -- \tMin reward: 33.2\tMax reward: 39.6\tMean reward: 37.6\tMoving Average: 23.5\n",
      "Episode 21 (285 sec)  -- \tMin reward: 32.6\tMax reward: 39.6\tMean reward: 37.3\tMoving Average: 24.1\n",
      "Episode 22 (289 sec)  -- \tMin reward: 34.9\tMax reward: 39.5\tMean reward: 38.0\tMoving Average: 24.8\n",
      "Episode 23 (285 sec)  -- \tMin reward: 33.6\tMax reward: 39.4\tMean reward: 37.4\tMoving Average: 25.3\n",
      "Episode 24 (285 sec)  -- \tMin reward: 32.0\tMax reward: 39.4\tMean reward: 37.3\tMoving Average: 25.8\n",
      "Episode 25 (285 sec)  -- \tMin reward: 31.7\tMax reward: 39.4\tMean reward: 36.5\tMoving Average: 26.3\n",
      "Episode 26 (286 sec)  -- \tMin reward: 33.9\tMax reward: 39.4\tMean reward: 36.8\tMoving Average: 26.7\n",
      "Episode 27 (285 sec)  -- \tMin reward: 32.6\tMax reward: 39.4\tMean reward: 37.1\tMoving Average: 27.0\n",
      "Episode 28 (286 sec)  -- \tMin reward: 35.0\tMax reward: 39.7\tMean reward: 37.8\tMoving Average: 27.4\n",
      "Episode 29 (285 sec)  -- \tMin reward: 35.1\tMax reward: 39.6\tMean reward: 37.8\tMoving Average: 27.8\n",
      "Episode 30 (286 sec)  -- \tMin reward: 34.6\tMax reward: 39.6\tMean reward: 37.8\tMoving Average: 28.1\n",
      "Episode 31 (286 sec)  -- \tMin reward: 33.7\tMax reward: 39.4\tMean reward: 37.3\tMoving Average: 28.4\n",
      "Episode 32 (287 sec)  -- \tMin reward: 33.7\tMax reward: 39.2\tMean reward: 37.2\tMoving Average: 28.7\n",
      "Episode 33 (286 sec)  -- \tMin reward: 27.3\tMax reward: 39.5\tMean reward: 35.6\tMoving Average: 28.9\n",
      "Episode 34 (286 sec)  -- \tMin reward: 33.0\tMax reward: 38.8\tMean reward: 36.5\tMoving Average: 29.1\n",
      "Episode 35 (290 sec)  -- \tMin reward: 34.3\tMax reward: 39.4\tMean reward: 37.8\tMoving Average: 29.4\n",
      "Episode 36 (286 sec)  -- \tMin reward: 34.0\tMax reward: 39.4\tMean reward: 37.9\tMoving Average: 29.6\n",
      "Episode 37 (286 sec)  -- \tMin reward: 34.4\tMax reward: 39.6\tMean reward: 37.8\tMoving Average: 29.8\n",
      "Episode 38 (287 sec)  -- \tMin reward: 33.6\tMax reward: 39.6\tMean reward: 37.4\tMoving Average: 30.0\n",
      "Episode 39 (285 sec)  -- \tMin reward: 35.3\tMax reward: 39.7\tMean reward: 37.6\tMoving Average: 30.2\n",
      "Episode 40 (286 sec)  -- \tMin reward: 34.4\tMax reward: 39.2\tMean reward: 37.3\tMoving Average: 30.4\n",
      "Episode 41 (287 sec)  -- \tMin reward: 33.3\tMax reward: 38.4\tMean reward: 36.6\tMoving Average: 30.6\n",
      "Episode 42 (287 sec)  -- \tMin reward: 31.8\tMax reward: 38.9\tMean reward: 37.3\tMoving Average: 30.7\n",
      "Episode 43 (286 sec)  -- \tMin reward: 32.5\tMax reward: 39.5\tMean reward: 37.0\tMoving Average: 30.9\n",
      "Episode 44 (287 sec)  -- \tMin reward: 32.5\tMax reward: 39.3\tMean reward: 36.7\tMoving Average: 31.0\n",
      "Episode 45 (287 sec)  -- \tMin reward: 27.3\tMax reward: 39.6\tMean reward: 36.5\tMoving Average: 31.1\n",
      "Episode 46 (286 sec)  -- \tMin reward: 31.1\tMax reward: 39.1\tMean reward: 36.9\tMoving Average: 31.2\n",
      "Episode 47 (290 sec)  -- \tMin reward: 33.6\tMax reward: 39.5\tMean reward: 37.1\tMoving Average: 31.4\n",
      "Episode 48 (287 sec)  -- \tMin reward: 29.9\tMax reward: 39.3\tMean reward: 35.5\tMoving Average: 31.4\n",
      "Episode 49 (287 sec)  -- \tMin reward: 31.8\tMax reward: 38.8\tMean reward: 36.5\tMoving Average: 31.6\n",
      "Episode 50 (287 sec)  -- \tMin reward: 35.4\tMax reward: 39.2\tMean reward: 37.3\tMoving Average: 31.7\n",
      "Episode 51 (287 sec)  -- \tMin reward: 36.3\tMax reward: 39.5\tMean reward: 38.0\tMoving Average: 31.8\n",
      "Episode 52 (287 sec)  -- \tMin reward: 33.7\tMax reward: 38.9\tMean reward: 36.8\tMoving Average: 31.9\n",
      "Episode 53 (289 sec)  -- \tMin reward: 33.0\tMax reward: 39.3\tMean reward: 37.2\tMoving Average: 32.0\n",
      "Episode 54 (288 sec)  -- \tMin reward: 33.9\tMax reward: 39.6\tMean reward: 37.5\tMoving Average: 32.1\n",
      "Episode 55 (287 sec)  -- \tMin reward: 32.8\tMax reward: 39.1\tMean reward: 36.9\tMoving Average: 32.2\n",
      "Episode 56 (287 sec)  -- \tMin reward: 31.4\tMax reward: 39.5\tMean reward: 37.0\tMoving Average: 32.3\n",
      "Episode 57 (289 sec)  -- \tMin reward: 32.4\tMax reward: 39.1\tMean reward: 36.2\tMoving Average: 32.3\n",
      "Episode 58 (288 sec)  -- \tMin reward: 33.0\tMax reward: 38.8\tMean reward: 36.3\tMoving Average: 32.4\n",
      "Episode 59 (288 sec)  -- \tMin reward: 33.5\tMax reward: 39.3\tMean reward: 37.8\tMoving Average: 32.5\n",
      "Episode 60 (303 sec)  -- \tMin reward: 28.8\tMax reward: 39.6\tMean reward: 37.2\tMoving Average: 32.6\n",
      "Episode 61 (290 sec)  -- \tMin reward: 34.7\tMax reward: 39.6\tMean reward: 37.8\tMoving Average: 32.7\n",
      "Episode 62 (298 sec)  -- \tMin reward: 34.7\tMax reward: 39.5\tMean reward: 37.9\tMoving Average: 32.7\n",
      "Episode 63 (292 sec)  -- \tMin reward: 34.0\tMax reward: 39.2\tMean reward: 37.6\tMoving Average: 32.8\n",
      "Episode 64 (288 sec)  -- \tMin reward: 30.3\tMax reward: 38.9\tMean reward: 36.3\tMoving Average: 32.9\n",
      "Episode 65 (289 sec)  -- \tMin reward: 33.7\tMax reward: 39.1\tMean reward: 36.3\tMoving Average: 32.9\n",
      "Episode 66 (289 sec)  -- \tMin reward: 34.3\tMax reward: 39.3\tMean reward: 36.9\tMoving Average: 33.0\n",
      "Episode 67 (289 sec)  -- \tMin reward: 33.1\tMax reward: 38.9\tMean reward: 36.7\tMoving Average: 33.0\n",
      "Episode 68 (288 sec)  -- \tMin reward: 28.6\tMax reward: 38.3\tMean reward: 35.2\tMoving Average: 33.1\n",
      "Episode 69 (289 sec)  -- \tMin reward: 32.9\tMax reward: 39.2\tMean reward: 37.0\tMoving Average: 33.1\n",
      "Episode 70 (291 sec)  -- \tMin reward: 35.8\tMax reward: 39.5\tMean reward: 37.8\tMoving Average: 33.2\n",
      "Episode 71 (288 sec)  -- \tMin reward: 30.0\tMax reward: 38.7\tMean reward: 35.8\tMoving Average: 33.2\n",
      "Episode 72 (292 sec)  -- \tMin reward: 24.0\tMax reward: 39.4\tMean reward: 35.4\tMoving Average: 33.3\n",
      "Episode 73 (289 sec)  -- \tMin reward: 27.7\tMax reward: 39.2\tMean reward: 36.5\tMoving Average: 33.3\n",
      "Episode 74 (289 sec)  -- \tMin reward: 31.3\tMax reward: 39.2\tMean reward: 36.7\tMoving Average: 33.4\n",
      "Episode 75 (288 sec)  -- \tMin reward: 29.7\tMax reward: 39.6\tMean reward: 37.6\tMoving Average: 33.4\n",
      "Episode 76 (288 sec)  -- \tMin reward: 31.9\tMax reward: 39.5\tMean reward: 36.5\tMoving Average: 33.5\n",
      "Episode 77 (288 sec)  -- \tMin reward: 14.7\tMax reward: 39.6\tMean reward: 35.5\tMoving Average: 33.5\n",
      "Episode 78 (289 sec)  -- \tMin reward: 33.8\tMax reward: 39.6\tMean reward: 37.8\tMoving Average: 33.5\n",
      "Episode 79 (287 sec)  -- \tMin reward: 32.2\tMax reward: 38.8\tMean reward: 36.4\tMoving Average: 33.6\n",
      "Episode 80 (288 sec)  -- \tMin reward: 23.8\tMax reward: 38.8\tMean reward: 35.5\tMoving Average: 33.6\n",
      "Episode 81 (287 sec)  -- \tMin reward: 32.8\tMax reward: 39.6\tMean reward: 37.2\tMoving Average: 33.6\n",
      "Episode 82 (289 sec)  -- \tMin reward: 30.4\tMax reward: 39.4\tMean reward: 36.7\tMoving Average: 33.7\n",
      "Episode 83 (287 sec)  -- \tMin reward: 30.9\tMax reward: 38.4\tMean reward: 36.8\tMoving Average: 33.7\n",
      "Episode 84 (287 sec)  -- \tMin reward: 33.7\tMax reward: 39.5\tMean reward: 37.3\tMoving Average: 33.8\n",
      "Episode 85 (290 sec)  -- \tMin reward: 32.5\tMax reward: 39.1\tMean reward: 37.4\tMoving Average: 33.8\n",
      "Episode 86 (287 sec)  -- \tMin reward: 34.1\tMax reward: 39.6\tMean reward: 37.1\tMoving Average: 33.8\n",
      "Episode 87 (287 sec)  -- \tMin reward: 31.7\tMax reward: 38.7\tMean reward: 36.0\tMoving Average: 33.9\n",
      "Episode 88 (287 sec)  -- \tMin reward: 33.1\tMax reward: 38.9\tMean reward: 36.4\tMoving Average: 33.9\n",
      "Episode 89 (286 sec)  -- \tMin reward: 33.8\tMax reward: 38.9\tMean reward: 37.1\tMoving Average: 33.9\n",
      "Episode 90 (286 sec)  -- \tMin reward: 23.1\tMax reward: 39.5\tMean reward: 36.1\tMoving Average: 33.9\n",
      "Episode 91 (288 sec)  -- \tMin reward: 18.4\tMax reward: 38.4\tMean reward: 34.2\tMoving Average: 34.0\n",
      "Episode 92 (286 sec)  -- \tMin reward: 31.4\tMax reward: 39.2\tMean reward: 37.0\tMoving Average: 34.0\n",
      "Episode 93 (286 sec)  -- \tMin reward: 32.3\tMax reward: 39.3\tMean reward: 37.2\tMoving Average: 34.0\n",
      "Episode 94 (288 sec)  -- \tMin reward: 33.2\tMax reward: 38.8\tMean reward: 36.2\tMoving Average: 34.0\n",
      "Episode 95 (287 sec)  -- \tMin reward: 29.1\tMax reward: 39.6\tMean reward: 35.2\tMoving Average: 34.1\n",
      "Episode 96 (286 sec)  -- \tMin reward: 26.9\tMax reward: 39.4\tMean reward: 35.0\tMoving Average: 34.1\n",
      "Episode 97 (290 sec)  -- \tMin reward: 33.3\tMax reward: 39.7\tMean reward: 37.2\tMoving Average: 34.1\n",
      "Episode 98 (286 sec)  -- \tMin reward: 32.0\tMax reward: 39.4\tMean reward: 37.8\tMoving Average: 34.1\n",
      "Episode 99 (286 sec)  -- \tMin reward: 35.0\tMax reward: 38.7\tMean reward: 37.3\tMoving Average: 34.2\n",
      "Episode 100 (286 sec)  -- \tMin reward: 32.2\tMax reward: 39.4\tMean reward: 36.9\tMoving Average: 34.2\n",
      "\n",
      "Environment was solved in 0 episodes!\tMoving Average =34.2 over last 100 episodes\n"
     ]
    }
   ],
   "source": [
    "action_size = brain.vector_action_space_size\n",
    "\n",
    "states = env_info.vector_observations\n",
    "state_size = states.shape[1]\n",
    "\n",
    "series_scores = []\n",
    "average_scores = []\n",
    "\n",
    "# Hyper-parameters:\n",
    "seed = 1\n",
    "batch_size = 128\n",
    "memory_size = int(1e5)\n",
    "gamma = 0.99\n",
    "actor_lr = 1e-3\n",
    "critic_lr = 1e-3\n",
    "agent = Agent(seed, gamma, actor_lr, critic_lr, batch_size, state_size, action_size, memory_size, num_agents)\n",
    "\n",
    "scores, avgs = run_ddpg(agent)"
   ]
  },
  {
   "cell_type": "code",
   "execution_count": 9,
   "metadata": {},
   "outputs": [
    {
     "data": {
      "image/png": "[encoded data removed]",
      "text/plain": [
       "<Figure size 432x288 with 1 Axes>"
      ]
     },
     "metadata": {
      "needs_background": "light"
     },
     "output_type": "display_data"
    }
   ],
   "source": [
    "fig = plt.figure()\n",
    "ax = fig.add_subplot(111)\n",
    "plt.plot(np.arange(len(scores)), scores, label='DDPG')\n",
    "plt.plot(np.arange(len(scores)), avgs, c='r', label='moving avg')\n",
    "plt.ylabel('Score')\n",
    "plt.xlabel('Episode #')\n",
    "plt.legend(loc='upper left');\n",
    "plt.show()"
   ]
  },
  {
   "cell_type": "code",
   "execution_count": 10,
   "metadata": {},
   "outputs": [],
   "source": [
    "env.close()"
   ]
  }
 ],
 "metadata": {
  "kernelspec": {
   "display_name": "Python 3",
   "language": "python",
   "name": "python3"
  },
  "language_info": {
   "codemirror_mode": {
    "name": "ipython",
    "version": 3
   },
   "file_extension": ".py",
   "mimetype": "text/x-python",
   "name": "python",
   "nbconvert_exporter": "python",
   "pygments_lexer": "ipython3",
   "version": "3.6.12"
  }
 },
 "nbformat": 4,
 "nbformat_minor": 4
}
