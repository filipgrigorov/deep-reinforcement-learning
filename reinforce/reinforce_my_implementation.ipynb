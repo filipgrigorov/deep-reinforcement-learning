{
 "cells": [
  {
   "cell_type": "code",
   "execution_count": 1,
   "metadata": {},
   "outputs": [],
   "source": [
    "import gym\n",
    "import matplotlib.pyplot as plt\n",
    "import numpy as np\n",
    "import torch\n",
    "import torch.nn as nn\n",
    "import torch.nn.functional as F\n",
    "import torch.optim as optim\n",
    "\n",
    "from collections import deque\n",
    "\n",
    "%matplotlib inline"
   ]
  },
  {
   "cell_type": "code",
   "execution_count": 2,
   "metadata": {},
   "outputs": [],
   "source": [
    "env = gym.make('CartPole-v0')\n",
    "\n",
    "# Note: We can make it stable by adding a large number or subtracting a large number\n",
    "def sigmoid(x):\n",
    "    return x / (1.0 + np.exp(-x))\n",
    "\n",
    "def dsigmoid(x):\n",
    "    return sigmoid(x) * (1.0 - sigmoid(x))\n",
    "\n",
    "# ToFix\n",
    "class SimplePolicy:\n",
    "    # input_size = state_size and output_size = action_size\n",
    "    def __init__(self, lr, input_size, output_size):\n",
    "        self.lr = lr\n",
    "        self.w = np.random.rand(input_size, output_size).astype(np.float32)\n",
    "        \n",
    "    def forward(self, state):\n",
    "        return sigmoid(self.w.T.dot(state))\n",
    "    \n",
    "    # Note: w += lr * dU\n",
    "    def update(self, state, expected_reward):\n",
    "        # 4x2 += 4x2\n",
    "        l = self.forward(state)\n",
    "        numerator = dsigmoid(l)\n",
    "        numerator *= l\n",
    "        self.w += self.lr * (numerator / l)\n",
    "        \n",
    "class Policy(nn.Module):\n",
    "    def __init__(self, lr, input_size=4, output_size=2):\n",
    "        super(Policy, self).__init__()\n",
    "        \n",
    "        self.input_size = input_size\n",
    "        self.output_size = output_size\n",
    "        \n",
    "        self.layers = nn.Sequential(\n",
    "            nn.Linear(input_size, 64),\n",
    "            nn.LeakyReLU(),\n",
    "            nn.Linear(64, output_size)\n",
    "        )\n",
    "    \n",
    "    def forward(self, state):\n",
    "        state = torch.from_numpy(state).float().unsqueeze(0)\n",
    "        outputs = self.layers(state)\n",
    "        return torch.softmax(outputs, dim=1)\n",
    "    \n",
    "    # Max P(episode) * R(episode)\n",
    "    def update(self, optim, U):\n",
    "        loss = torch.stack(U).sum()\n",
    "        optim.zero_grad()\n",
    "        # Note: Backprop through Pr(episode) * R(episode)\n",
    "        loss.backward()\n",
    "        optim.step()"
   ]
  },
  {
   "cell_type": "code",
   "execution_count": 3,
   "metadata": {},
   "outputs": [
    {
     "name": "stdout",
     "output_type": "stream",
     "text": [
      "Episode 1830\tAverage Score: 194.54\n",
      "Achieved, successfully, 195.01 in 1734 episodes\n"
     ]
    },
    {
     "data": {
      "image/png": "[encoded data removed]",
      "text/plain": [
       "<Figure size 432x288 with 1 Axes>"
      ]
     },
     "metadata": {
      "needs_background": "light"
     },
     "output_type": "display_data"
    }
   ],
   "source": [
    "def run(env, optim, nepisodes):\n",
    "    rewards = deque(maxlen=100)\n",
    "    scores = []\n",
    "\n",
    "    gamma = 1.0\n",
    "    \n",
    "    print_every = 10\n",
    "    \n",
    "    for episode_idx in range(1, nepisodes + 1):\n",
    "        state = env.reset()\n",
    "        \n",
    "        # U(w) = SUM[P(trajectory;w)*R(trajectory)]\n",
    "        episode_rewards = []; log_probs = []\n",
    "        \n",
    "        while True:\n",
    "            action_probs = policy.forward(state)\n",
    "            action_probs = action_probs.squeeze(0)\n",
    "            \n",
    "            # We need to sample from these probabilities\n",
    "            action = np.random.choice(np.arange(env.action_space.n), p=action_probs.clone().detach().numpy())\n",
    "            \n",
    "            # grad[ log(policy_w) ]\n",
    "            log_probs.append(torch.log(action_probs[action]))\n",
    "    \n",
    "            next_state, reward, done, _ = env.step(action)\n",
    "            \n",
    "            episode_rewards.append(reward)\n",
    "            \n",
    "            state = next_state\n",
    "            \n",
    "            if done:\n",
    "                break\n",
    "                \n",
    "        # Collect stats\n",
    "        rewards.append(sum(episode_rewards))\n",
    "        scores.append(sum(episode_rewards))\n",
    "                \n",
    "        # We want to max the probability for maximizing the expected return for a trajectory (episode)\n",
    "        ER =  sum([ (gamma ** idx) * R for idx, R in enumerate(episode_rewards) ])\n",
    "        # Note: We need the negative sign as torch optimizes w_t+1 = w_t - lr * gradL = w_t - lr * (- gradU) = w_t + lr * gradU\n",
    "        U = [ -log_probs[idx] * ER for idx in range(0, len(log_probs)) ]\n",
    "        policy.update(optim, U)\n",
    "            \n",
    "        if episode_idx % print_every == 0:\n",
    "            print('\\rEpisode {}\\tAverage Score: {:.2f}'.format(episode_idx, np.mean(rewards)), end='')\n",
    "            \n",
    "        if np.mean(rewards) >= 195:\n",
    "            print(f'\\nAchieved, successfully, {np.mean(rewards)} in {max(0, episode_idx - 100)} episodes')\n",
    "            break\n",
    "        \n",
    "    return scores\n",
    "        \n",
    "lr = 1e-3\n",
    "input_size = env.observation_space.shape[0]\n",
    "output_size = env.action_space.n\n",
    "policy = Policy(lr, input_size, output_size).cpu()\n",
    "optim = optim.Adam(policy.parameters(), lr = lr)\n",
    "scores = run(env, optim, nepisodes=2000)\n",
    "\n",
    "# Print the scores (logarithmic scale)\n",
    "fig = plt.figure()\n",
    "ax = fig.add_subplot(111)\n",
    "plt.plot(np.arange(1, len(scores) + 1), scores)\n",
    "plt.ylabel('Score')\n",
    "plt.xlabel('Episode #')\n",
    "plt.show()"
   ]
  },
  {
   "cell_type": "code",
   "execution_count": null,
   "metadata": {},
   "outputs": [],
   "source": []
  },
  {
   "cell_type": "code",
   "execution_count": null,
   "metadata": {},
   "outputs": [],
   "source": []
  }
 ],
 "metadata": {
  "kernelspec": {
   "display_name": "Python 3",
   "language": "python",
   "name": "python3"
  },
  "language_info": {
   "codemirror_mode": {
    "name": "ipython",
    "version": 3
   },
   "file_extension": ".py",
   "mimetype": "text/x-python",
   "name": "python",
   "nbconvert_exporter": "python",
   "pygments_lexer": "ipython3",
   "version": "3.7.4"
  }
 },
 "nbformat": 4,
 "nbformat_minor": 4
}
